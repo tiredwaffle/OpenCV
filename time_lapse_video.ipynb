{
  "nbformat": 4,
  "nbformat_minor": 0,
  "metadata": {
    "colab": {
      "name": "time_lapse_video.ipynb",
      "provenance": [],
      "collapsed_sections": []
    },
    "kernelspec": {
      "name": "python3",
      "display_name": "Python 3"
    },
    "language_info": {
      "name": "python"
    }
  },
  "cells": [
    {
      "cell_type": "code",
      "execution_count": 27,
      "metadata": {
        "id": "UpwToTx345mM"
      },
      "outputs": [],
      "source": [
        "import cv2\n",
        "import time\n",
        "from google.colab.patches import cv2_imshow\n",
        "import numpy as np\n",
        "import os"
      ]
    },
    {
      "cell_type": "code",
      "source": [
        "def create_fps(cap):\n",
        "  (major_ver, minor_ver, subminor_ver) = (cv2.__version__).split('.')\n",
        "  if int(major_ver)  < 3 :\n",
        "      fps = cap.get(cv2.cv.CV_CAP_PROP_FPS)\n",
        "      print(\"Frames per second using video.get(cv2.cv.CV_CAP_PROP_FPS): {0}\".format(fps))\n",
        "  else :\n",
        "      fps = cap.get(cv2.CAP_PROP_FPS)\n",
        "      print(\"Frames per second using video.get(cv2.CAP_PROP_FPS) : {0}\".format(fps))\n",
        "  return fps"
      ],
      "metadata": {
        "id": "BQ3Y8n8L_2iy"
      },
      "execution_count": 25,
      "outputs": []
    },
    {
      "cell_type": "code",
      "source": [
        "def create_pics(video_path, photos_path):\n",
        "  cap = cv2.VideoCapture(video_path)\n",
        "  count = 0\n",
        "  fps = create_fps(cap)\n",
        "  while cap.isOpened():\n",
        "      ret, frame = cap.read()\n",
        "      if ret:\n",
        "          cv2.imwrite(photos_path + '{:d}.jpg'.format(count), frame)\n",
        "          count += int(fps) \n",
        "          cap.set(cv2.CAP_PROP_POS_FRAMES, count)\n",
        "      else:\n",
        "          cap.release()\n",
        "          break\n",
        "  return count, fps"
      ],
      "metadata": {
        "id": "i4FCpdYk9x-2"
      },
      "execution_count": 31,
      "outputs": []
    },
    {
      "cell_type": "code",
      "source": [
        "def create_video_from_img(video_path,\n",
        "                          photos_path,\n",
        "                          frames_count,\n",
        "                          fps, frequency = 10):\n",
        "  img_array = []\n",
        "  for name in range(0, frames_count, int(fps)):\n",
        "      frame_path = photos_path + f'{name}.jpg'\n",
        "      img = cv2.imread(frame_path)\n",
        "      height, width, layers = img.shape\n",
        "      size = (width,height)\n",
        "      img_array.extend([img]*frequency)\n",
        "      os.remove(frame_path)\n",
        "\n",
        "  out = cv2.VideoWriter(video_path,\n",
        "                        cv2.VideoWriter_fourcc(*'DIVX'), \n",
        "                        fps, size)\n",
        "  \n",
        "  for i in range(len(img_array)):\n",
        "      out.write(img_array[i])\n",
        "  out.release()"
      ],
      "metadata": {
        "id": "cpb4PUdNAVXy"
      },
      "execution_count": 29,
      "outputs": []
    },
    {
      "cell_type": "code",
      "source": [
        "video_path = '/content/VID_20211231_190045.avi'\n",
        "photos_path = '/content/pics/'\n",
        "final_video_path = '/content/result.avi'\n",
        "frames_count, fps = create_pics(video_path, photos_path)\n",
        "create_video_from_img(final_video_path,\n",
        "                          photos_path,\n",
        "                          frames_count,\n",
        "                          fps, frequency = 10)"
      ],
      "metadata": {
        "colab": {
          "base_uri": "https://localhost:8080/"
        },
        "id": "l5ZoGC_z8W-s",
        "outputId": "b21fba18-d9af-4a0e-a492-a849ecd52651"
      },
      "execution_count": 32,
      "outputs": [
        {
          "output_type": "stream",
          "name": "stdout",
          "text": [
            "Frames per second using video.get(cv2.CAP_PROP_FPS) : 30.0\n"
          ]
        }
      ]
    }
  ]
}