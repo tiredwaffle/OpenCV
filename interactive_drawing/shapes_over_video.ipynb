{
 "cells": [
  {
   "cell_type": "code",
   "execution_count": 1,
   "metadata": {
    "collapsed": true
   },
   "outputs": [],
   "source": [
    "import cv2"
   ]
  },
  {
   "cell_type": "code",
   "execution_count": 6,
   "metadata": {
    "collapsed": false
   },
   "outputs": [],
   "source": [
    "def draw_rectangle(event, x, y, flags, param):\n",
    "    global pt1, pt2, top_left_clicked, bottom_right_clicked\n",
    "    \n",
    "    if event == cv2.EVENT_LBUTTONDOWN:\n",
    "        if top_left_clicked == True and bottom_right_clicked == True:\n",
    "            pt1 = (0,0)\n",
    "            pt2 = (0,0)\n",
    "            top_left_clicked == False \n",
    "            bottom_right_clicked == False\n",
    "        if top_left_clicked == False:\n",
    "            pt1 = (x,y)\n",
    "            top_left_clicked == False \n",
    "        elif bottom_right_clicked == False:\n",
    "            pt2 = (x,y)\n",
    "            bottom_right_clicked == False \n",
    "pt1 = (0,0)\n",
    "pt2 = (0,0)\n",
    "top_left_clicked = False\n",
    "bottom_right_clicked = False\n",
    "\n",
    "cap = cv2.VideoCapture(0)\n",
    "cv2.namedWindow('Test')\n",
    "cv2.setMouseCallback('Test', draw_rectangle)\n",
    "\n",
    "while True:\n",
    "    ret, frame = cap.read()\n",
    "    \n",
    "    if top_left_clicked == True:\n",
    "        cv2.circle(frame, center = pt1, radius = 5,\n",
    "                  color = (255,0,255), thickness = 1)\n",
    "    if top_left_clicked == True and bottom_right_clicked == True:\n",
    "        cv2.rectangle(frame, pt1,pt2,(255,0,255), thickness = 1)    \n",
    "    \n",
    "    cv2.imshow('frame', frame)\n",
    "    \n",
    "    if cv2.waitKey(3) & 0xFF == 27:\n",
    "        break\n",
    "        \n",
    "cap.release()\n",
    "cv2.destroyAllWindows()"
   ]
  }
 ],
 "metadata": {
  "kernelspec": {
   "display_name": "Python [default]",
   "language": "python",
   "name": "python3"
  },
  "language_info": {
   "codemirror_mode": {
    "name": "ipython",
    "version": 3
   },
   "file_extension": ".py",
   "mimetype": "text/x-python",
   "name": "python",
   "nbconvert_exporter": "python",
   "pygments_lexer": "ipython3",
   "version": "3.5.2"
  }
 },
 "nbformat": 4,
 "nbformat_minor": 1
}
