{
 "cells": [
  {
   "cell_type": "code",
   "execution_count": 2,
   "metadata": {
    "collapsed": false
   },
   "outputs": [
    {
     "name": "stderr",
     "output_type": "stream",
     "text": [
      "ERROR: Could not find a version that satisfies the requirement cv2 (from versions: none)\n",
      "ERROR: No matching distribution found for cv2\n",
      "WARNING: You are using pip version 20.1.1; however, version 20.2.2 is available.\n",
      "You should consider upgrading via the 'c:\\users\\yulyz\\anaconda3\\python.exe -m pip install --upgrade pip' command.\n"
     ]
    }
   ],
   "source": [
    "!pip install cv2"
   ]
  },
  {
   "cell_type": "code",
   "execution_count": 25,
   "metadata": {
    "collapsed": false
   },
   "outputs": [],
   "source": [
    "\n",
    "from random import random"
   ]
  },
  {
   "cell_type": "code",
   "execution_count": 3,
   "metadata": {
    "collapsed": true
   },
   "outputs": [],
   "source": [
    "# record video from WebCam\n",
    "\n",
    "import cv2\n",
    "import time\n",
    "\n",
    "cap = cv2.VideoCapture(0)\n",
    "\n",
    "width = int(cap.get(cv2.CAP_PROP_FRAME_WIDTH))\n",
    "height = int(cap.get(cv2.CAP_PROP_FRAME_HEIGHT))\n",
    "\n",
    "output = cv2.VideoWriter('test_video.avi',\n",
    "                        cv2.VideoWriter_fourcc(*'DIVX'),\n",
    "                        20,\n",
    "                        (width, height))\n",
    "\n",
    "while True:\n",
    "    ret, frame = cap.read()\n",
    "    output.write(frame)\n",
    "    cv2.imshow('frame', frame)\n",
    "    if cv2.waitKey(5) & 0xFF == 27:\n",
    "        break\n",
    "        \n",
    "cap.release()\n",
    "output.release()\n",
    "cv2.destroyAllWindows()"
   ]
  },
  {
   "cell_type": "code",
   "execution_count": 4,
   "metadata": {
    "collapsed": false
   },
   "outputs": [],
   "source": [
    "# show video that was recorded\n",
    "\n",
    "import cv2\n",
    "import time\n",
    "\n",
    "cap = cv2.VideoCapture('test_video.avi')\n",
    "\n",
    "if cap.isOpened() == False:\n",
    "    print('Oops... The video was not opened. Check the path')\n",
    "    \n",
    "while cap.isOpened():\n",
    "    ret, frame = cap.read()\n",
    "    if ret is True:\n",
    "        time.sleep(1/20) # cause we specified FRS = 20 earlier\n",
    "        cv2.imshow('frame', frame)\n",
    "        if cv2.waitKey(15) & 0xFF == 27:\n",
    "            break  \n",
    "cap.release()\n",
    "cv2.destroyAllWindows()"
   ]
  },
  {
   "cell_type": "code",
   "execution_count": 24,
   "metadata": {
    "collapsed": false
   },
   "outputs": [
    {
     "name": "stdout",
     "output_type": "stream",
     "text": [
      "1482049860\n"
     ]
    }
   ],
   "source": [
    "# read the video and save to gray scale (while showing it)\n",
    "import cv2\n",
    "import time\n",
    "\n",
    "cap = cv2.VideoCapture('test_video.avi')\n",
    "\n",
    "width = int(cap.get(cv2.CAP_PROP_FRAME_WIDTH))\n",
    "height = int(cap.get(cv2.CAP_PROP_FRAME_HEIGHT))\n",
    "\n",
    "fourcc = cv2.VideoWriter_fourcc(*'DIVX')\n",
    "print(fourcc)\n",
    "\n",
    "output = cv2.VideoWriter('test_video_grey.avi',cv2.VideoWriter_fourcc(*'DIVX'),20,(width, height),isColor=False)\n",
    "\n",
    "while cap.isOpened():    \n",
    "    ret, frame = cap.read()\n",
    "    time.sleep(1/20)\n",
    "    cv2.imshow('frame_original',frame)\n",
    "    frame = cv2.cvtColor(frame,cv2.COLOR_BGR2GRAY)\n",
    "    cv2.imshow('frame_gray_scale',frame)\n",
    "    if cv2.waitKey(1) & 0xFF == 27:\n",
    "        break\n",
    "cap.release()\n",
    "output.release()\n",
    "cv2.destroyAllWindows()"
   ]
  },
  {
   "cell_type": "code",
   "execution_count": 22,
   "metadata": {
    "collapsed": false
   },
   "outputs": [],
   "source": [
    "# read the video and save to gray scale (silently)\n",
    "\n",
    "import cv2\n",
    "import time\n",
    "\n",
    "cap = cv2.VideoCapture('test_video.avi')\n",
    "if cap.isOpened() == False:\n",
    "    print('Oops... The video was not opened. Check the path')\n",
    "\n",
    "width = int(cap.get(cv2.CAP_PROP_FRAME_WIDTH))\n",
    "height = int(cap.get(cv2.CAP_PROP_FRAME_HEIGHT))\n",
    "\n",
    "output = cv2.VideoWriter('test_video_gray.avi', cv2.VideoWriter_fourcc(*'DIVX'),20,(width, height), isColor=False)\n",
    "\n",
    "while cap.isOpened():\n",
    "    ret, frame = cap.read()\n",
    "    if ret:\n",
    "        frame = cv2.cvtColor(frame,cv2.COLOR_BGR2GRAY)\n",
    "        output.write(frame)       \n",
    "    else:\n",
    "        break\n",
    "cap.release()\n",
    "output.release()\n",
    "cv2.destroyAllWindows()"
   ]
  },
  {
   "cell_type": "code",
   "execution_count": 92,
   "metadata": {
    "collapsed": true
   },
   "outputs": [],
   "source": [
    "def generate_next_color(rgb):\n",
    "    return (int(random()*255),\n",
    "            int(random()*255),\n",
    "            int(random()*255))\n",
    "\n",
    "def generate_next_pacman(waka):\n",
    "    if waka < 60:\n",
    "        return waka + 3\n",
    "    else:\n",
    "        return 0"
   ]
  },
  {
   "cell_type": "code",
   "execution_count": 97,
   "metadata": {
    "collapsed": false
   },
   "outputs": [],
   "source": [
    "# drawing all kind of nonsense\n",
    "import cv2\n",
    "import time\n",
    "\n",
    "cap = cv2.VideoCapture('test_video_gray.avi')\n",
    "if cap.isOpened() == False:\n",
    "    print('Oops... The video was not opened. Check the path')\n",
    "\n",
    "width = int(cap.get(cv2.CAP_PROP_FRAME_WIDTH))\n",
    "height = int(cap.get(cv2.CAP_PROP_FRAME_HEIGHT))\n",
    "\n",
    "output = cv2.VideoWriter('test_video_gray_squares.avi', cv2.VideoWriter_fourcc(*'DIVX'),20,(width, height))\n",
    "x = width//4\n",
    "y = height//4\n",
    "colors = (0,0,0)\n",
    "pacman = 0\n",
    "\n",
    "while cap.isOpened():\n",
    "    \n",
    "    # just a bunch of random values\n",
    "    x += 3\n",
    "    y += 2\n",
    "    pacman = generate_next_pacman(pacman+5)\n",
    "    if int(random()*100)%4==0:\n",
    "        colors = generate_next_color(colors)\n",
    "        \n",
    "    ret, frame = cap.read()\n",
    "    \n",
    "    if ret:\n",
    "        # nonsense\n",
    "        cv2.rectangle(frame,(x,y), (width//4+x, y + height//4), color = colors, thickness = 5)\n",
    "        cv2.circle(frame,(width - x*2,height -y//2 +10), 100, color = colors[::-1],thickness = 3)\n",
    "        # also nonsense but in the shape of pacman\n",
    "        cv2.ellipse(frame,(width//4+x,3*height//4),(60,60),30-pacman/2,0,300 + pacman,(0,255,255),-1)\n",
    "        cv2.circle(frame,(width//4+x-15,3*height//4-20), 3, color = (0,0,0),thickness = 3)\n",
    "        \n",
    "        output.write(frame)       \n",
    "    else:\n",
    "        break\n",
    "cap.release()\n",
    "output.release()\n",
    "cv2.destroyAllWindows()"
   ]
  }
 ],
 "metadata": {
  "anaconda-cloud": {},
  "kernelspec": {
   "display_name": "Python [default]",
   "language": "python",
   "name": "python3"
  },
  "language_info": {
   "codemirror_mode": {
    "name": "ipython",
    "version": 3
   },
   "file_extension": ".py",
   "mimetype": "text/x-python",
   "name": "python",
   "nbconvert_exporter": "python",
   "pygments_lexer": "ipython3",
   "version": "3.5.2"
  }
 },
 "nbformat": 4,
 "nbformat_minor": 1
}
